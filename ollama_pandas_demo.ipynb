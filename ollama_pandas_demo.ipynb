{
 "cells": [
  {
   "cell_type": "markdown",
   "id": "ed81250e-51b2-48b2-96d8-21a1fb3f83cc",
   "metadata": {},
   "source": [
    "<img src = \"https://github.com/singlestore-labs/spaces-notebooks/blob/e551e274bb67bb1e5081131ee1150cdba713fc43/common/images/singlestore-jupyter.png?raw=true\">"
   ]
  },
  {
   "cell_type": "markdown",
   "id": "0d489c15-c632-42ec-87fb-1b7cfef7c502",
   "metadata": {},
   "source": [
    "<div id=\"singlestore-header\" style=\"display: flex; background-color: rgba(235, 249, 245, 0.25); padding: 5px;\">\n",
    "    <div id=\"icon-image\" style=\"width: 90px; height: 90px;\">\n",
    "        <img width=\"100%\" height=\"100%\" src=\"https://raw.githubusercontent.com/singlestore-labs/spaces-notebooks/master/common/images/header-icons/browser.png\" />\n",
    "    </div>\n",
    "    <div id=\"text\" style=\"padding: 5px; margin-left: 10px;\">\n",
    "        <div id=\"badge\" style=\"display: inline-block; background-color: rgba(0, 0, 0, 0.15); border-radius: 4px; padding: 4px 8px; align-items: center; margin-top: 6px; margin-bottom: -2px; font-size: 80%\">SingleStore Notebooks</div>\n",
    "        <h1 style=\"font-weight: 500; margin: 8px 0 0 4px;\">Ollama + SingleStore - LangChain = :-(</h1>\n",
    "    </div>\n",
    "</div>"
   ]
  },
  {
   "cell_type": "code",
   "execution_count": 1,
   "id": "b9493bff-8932-4500-bbdf-8a0333c43e89",
   "metadata": {},
   "outputs": [],
   "source": [
    "!pip install ollama numpy pandas sqlalchemy-singlestoredb --quiet --no-warn-script-location"
   ]
  },
  {
   "cell_type": "code",
   "execution_count": 2,
   "id": "d1baa056-0c9c-4079-8864-1385d062d253",
   "metadata": {},
   "outputs": [],
   "source": [
    "import ollama\n",
    "import os\n",
    "import numpy as np\n",
    "import pandas as pd\n",
    "from sqlalchemy import create_engine, text"
   ]
  },
  {
   "cell_type": "code",
   "execution_count": 3,
   "id": "3c2535d2-a637-496f-a5f0-b1d9ab99e0e0",
   "metadata": {},
   "outputs": [
    {
     "data": {
      "text/plain": [
       "{'status': 'success'}"
      ]
     },
     "execution_count": 3,
     "metadata": {},
     "output_type": "execute_result"
    }
   ],
   "source": [
    "ollama.pull(\"all-minilm\")"
   ]
  },
  {
   "cell_type": "code",
   "execution_count": 4,
   "id": "ffad4331-c3f3-42d9-b395-dd57a35a1e63",
   "metadata": {},
   "outputs": [
    {
     "data": {
      "text/plain": [
       "{'status': 'success'}"
      ]
     },
     "execution_count": 4,
     "metadata": {},
     "output_type": "execute_result"
    }
   ],
   "source": [
    "ollama.pull(\"llama2\")"
   ]
  },
  {
   "cell_type": "code",
   "execution_count": 5,
   "id": "36d2ef19-1442-4e65-a789-96d7c2dac003",
   "metadata": {},
   "outputs": [],
   "source": [
    "documents = [\n",
    "    \"Llamas are members of the camelid family meaning they're pretty closely related to vicuñas and camels\",\n",
    "    \"Llamas were first domesticated and used as pack animals 4,000 to 5,000 years ago in the Peruvian highlands\",\n",
    "    \"Llamas can grow as much as 6 feet tall though the average llama between 5 feet 6 inches and 5 feet 9 inches tall\",\n",
    "    \"Llamas weigh between 280 and 450 pounds and can carry 25 to 30 percent of their body weight\",\n",
    "    \"Llamas are vegetarians and have very efficient digestive systems\",\n",
    "    \"Llamas live to be about 20 years old, though some only live for 15 years and others live to be 30 years old\"\n",
    "]\n",
    "\n",
    "df_data = []\n",
    "\n",
    "for doc in documents:\n",
    "    response = ollama.embeddings(\n",
    "        model = \"all-minilm\",\n",
    "        prompt = doc\n",
    "    )\n",
    "    embedding = response[\"embedding\"]\n",
    "    embedding_array = np.array(embedding).astype(np.float32)\n",
    "    df_data.append({\"content\": doc, \"vector\": embedding_array})\n",
    "\n",
    "df = pd.DataFrame(df_data)\n",
    "\n",
    "dimensions = len(df.at[0, \"vector\"])"
   ]
  },
  {
   "cell_type": "code",
   "execution_count": 6,
   "id": "386797b1-6edc-438e-8177-fbd00eb4842a",
   "metadata": {},
   "outputs": [],
   "source": [
    "connection_url = \"singlestoredb://\" + os.environ.get(\"SINGLESTOREDB_URL\")\n",
    "\n",
    "db_connection = create_engine(connection_url)"
   ]
  },
  {
   "cell_type": "code",
   "execution_count": 7,
   "id": "17419250-06b7-4e15-aafa-bf4c9e40b59b",
   "metadata": {},
   "outputs": [],
   "source": [
    "query = text(\"\"\"\n",
    "CREATE TABLE IF NOT EXISTS pandas_docs (\n",
    "    id BIGINT AUTO_INCREMENT NOT NULL,\n",
    "    content LONGTEXT,\n",
    "    vector VECTOR(:dimensions) NOT NULL,\n",
    "    PRIMARY KEY(id)\n",
    ");\n",
    "\"\"\")\n",
    "\n",
    "with db_connection.connect() as conn:\n",
    "    conn.execute(query, {\"dimensions\": dimensions})"
   ]
  },
  {
   "cell_type": "code",
   "execution_count": 8,
   "id": "9ceb1061-8998-44df-88ed-ae69c50e0506",
   "metadata": {},
   "outputs": [
    {
     "data": {
      "text/plain": [
       "6"
      ]
     },
     "execution_count": 8,
     "metadata": {},
     "output_type": "execute_result"
    }
   ],
   "source": [
    "df.to_sql(\n",
    "    \"pandas_docs\",\n",
    "    con = db_connection,\n",
    "    if_exists = \"append\",\n",
    "    index = False,\n",
    "    chunksize = 1000\n",
    ")"
   ]
  },
  {
   "cell_type": "code",
   "execution_count": 9,
   "id": "6d2b96fd-3891-4af6-9080-746ac6c25628",
   "metadata": {},
   "outputs": [],
   "source": [
    "query = text(\"\"\"\n",
    "ALTER TABLE pandas_docs ADD VECTOR INDEX (vector)\n",
    "    INDEX_OPTIONS '{\n",
    "          \"metric_type\": \"EUCLIDEAN_DISTANCE\"\n",
    "     }';\n",
    "\"\"\")\n",
    "\n",
    "with db_connection.connect() as conn:\n",
    "    conn.execute(query)"
   ]
  },
  {
   "cell_type": "code",
   "execution_count": 10,
   "id": "12a3af20-ca85-4291-b886-5c494b6ef9ca",
   "metadata": {},
   "outputs": [
    {
     "name": "stdout",
     "output_type": "stream",
     "text": [
      "Llamas are members of the camelid family meaning they're pretty closely related to vicuñas and camels\n"
     ]
    }
   ],
   "source": [
    "prompt = \"What animals are llamas related to?\"\n",
    "\n",
    "response = ollama.embeddings(\n",
    "    prompt = prompt,\n",
    "    model = \"all-minilm\"\n",
    ")\n",
    "\n",
    "embedding = response[\"embedding\"]\n",
    "embedding_array = np.array(embedding).astype(np.float32)\n",
    "\n",
    "query = text(\"\"\"\n",
    "SELECT content\n",
    "FROM pandas_docs\n",
    "ORDER BY vector <-> :embedding_array ASC\n",
    "LIMIT 1;\n",
    "\"\"\")\n",
    "\n",
    "with db_connection.connect() as conn:\n",
    "    results = conn.execute(query, {\"embedding_array\": embedding_array})\n",
    "    row = results.fetchone()\n",
    "\n",
    "data = row[0]\n",
    "print(data)"
   ]
  },
  {
   "cell_type": "code",
   "execution_count": 11,
   "id": "a28dc660-f15a-4939-8259-2dec26fe2e8b",
   "metadata": {},
   "outputs": [
    {
     "name": "stdout",
     "output_type": "stream",
     "text": [
      "\n",
      "Llamas are members of the camelid family, which means they are closely related to other animals such as:\n",
      "\n",
      "1. Vicuñas: Vicuñas are small, wild camelids that are native to South America. They are known for their soft, woolly coats and are considered an endangered species due to habitat loss and poaching.\n",
      "2. Camels: Camels are large, even-toed ungulates that are native to Africa and the Middle East. They are known for their distinctive humps on their backs, which store water and food for long periods of time.\n",
      "\n",
      "Both llamas and vicuñas are classified as members of the family Camelidae, while camels are classified as belonging to the family Dromedaryae. Despite their differences in size and habitat, all three species share many similarities in terms of their physical characteristics and behavior.\n"
     ]
    }
   ],
   "source": [
    "output = ollama.generate(\n",
    "    model = \"llama2\",\n",
    "    prompt = f\"Using this data: {data}. Respond to this prompt: {prompt}\"\n",
    ")\n",
    "\n",
    "print(output[\"response\"])"
   ]
  }
 ],
 "metadata": {
  "kernelspec": {
   "display_name": "Python 3 (ipykernel)",
   "language": "python",
   "name": "python3"
  },
  "language_info": {
   "codemirror_mode": {
    "name": "ipython",
    "version": 3
   },
   "file_extension": ".py",
   "mimetype": "text/x-python",
   "name": "python",
   "nbconvert_exporter": "python",
   "pygments_lexer": "ipython3",
   "version": "3.10.12"
  }
 },
 "nbformat": 4,
 "nbformat_minor": 5
}
