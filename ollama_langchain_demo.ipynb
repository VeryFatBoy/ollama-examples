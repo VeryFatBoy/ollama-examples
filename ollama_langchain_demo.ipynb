{
 "cells": [
  {
   "cell_type": "code",
   "execution_count": 1,
   "id": "562e330e-e810-4911-96cb-6f51a19dace4",
   "metadata": {},
   "outputs": [],
   "source": [
    "!pip install langchain ollama --quiet --no-warn-script-location"
   ]
  },
  {
   "cell_type": "code",
   "execution_count": 2,
   "id": "5606f3d0-272b-4fdd-8997-980684d9fc04",
   "metadata": {},
   "outputs": [],
   "source": [
    "import ollama\n",
    "from langchain_community.vectorstores import SingleStoreDB\n",
    "from langchain_community.vectorstores.utils import DistanceStrategy\n",
    "from langchain_core.documents import Document\n",
    "from langchain_community.embeddings import OllamaEmbeddings"
   ]
  },
  {
   "cell_type": "code",
   "execution_count": 3,
   "id": "a20588da-3766-44ed-b40a-b3f162f4bab7",
   "metadata": {},
   "outputs": [
    {
     "data": {
      "text/plain": [
       "{'status': 'success'}"
      ]
     },
     "execution_count": 3,
     "metadata": {},
     "output_type": "execute_result"
    }
   ],
   "source": [
    "ollama.pull(\"all-minilm\")"
   ]
  },
  {
   "cell_type": "code",
   "execution_count": 4,
   "id": "0411305c-ac1d-4fbe-aea4-08f8fc1bd3ca",
   "metadata": {},
   "outputs": [
    {
     "data": {
      "text/plain": [
       "{'status': 'success'}"
      ]
     },
     "execution_count": 4,
     "metadata": {},
     "output_type": "execute_result"
    }
   ],
   "source": [
    "ollama.pull(\"llama2\")"
   ]
  },
  {
   "cell_type": "code",
   "execution_count": 5,
   "id": "3deb402a-60ef-425a-b2cf-3368a6805109",
   "metadata": {},
   "outputs": [],
   "source": [
    "documents = [\n",
    "    \"Llamas are members of the camelid family meaning they're pretty closely related to vicuñas and camels\",\n",
    "    \"Llamas were first domesticated and used as pack animals 4,000 to 5,000 years ago in the Peruvian highlands\",\n",
    "    \"Llamas can grow as much as 6 feet tall though the average llama between 5 feet 6 inches and 5 feet 9 inches tall\",\n",
    "    \"Llamas weigh between 280 and 450 pounds and can carry 25 to 30 percent of their body weight\",\n",
    "    \"Llamas are vegetarians and have very efficient digestive systems\",\n",
    "    \"Llamas live to be about 20 years old, though some only live for 15 years and others live to be 30 years old\"\n",
    "]\n",
    "\n",
    "embeddings = OllamaEmbeddings(\n",
    "    model = \"all-minilm\",\n",
    ")\n",
    "\n",
    "dimensions = len(embeddings.embed_query(documents[0]))\n",
    "\n",
    "docs = [Document(text) for text in documents]"
   ]
  },
  {
   "cell_type": "code",
   "execution_count": 6,
   "id": "bf899da3-1ce9-44e2-b35e-6ab9f0673863",
   "metadata": {},
   "outputs": [],
   "source": [
    "docsearch = SingleStoreDB.from_documents(\n",
    "    docs,\n",
    "    embeddings,\n",
    "    table_name = \"langchain_docs\",\n",
    "    distance_strategy = DistanceStrategy.EUCLIDEAN_DISTANCE,\n",
    "    use_vector_index = True,\n",
    "    vector_size = dimensions\n",
    ")"
   ]
  },
  {
   "cell_type": "code",
   "execution_count": 7,
   "id": "ef0a6889-fc62-4498-a8cf-1f69d67d91d4",
   "metadata": {},
   "outputs": [
    {
     "name": "stdout",
     "output_type": "stream",
     "text": [
      "Llamas are members of the camelid family meaning they're pretty closely related to vicuñas and camels\n"
     ]
    }
   ],
   "source": [
    "prompt = \"What animals are llamas related to?\"\n",
    "docs = docsearch.similarity_search(prompt)\n",
    "data = docs[0].page_content\n",
    "print(data)"
   ]
  },
  {
   "cell_type": "code",
   "execution_count": 8,
   "id": "869c0fd5-7240-4fa4-8571-40da10eaf74a",
   "metadata": {},
   "outputs": [
    {
     "name": "stdout",
     "output_type": "stream",
     "text": [
      "\n",
      "Llamas are members of the camelid family, which means they are closely related to other animals such as:\n",
      "\n",
      "1. Vicuñas: Vicuñas are small, wild relatives of llamas and alpacas. They are native to South America and are known for their soft, woolly coats.\n",
      "2. Camels: Camels are also members of the camelid family and are known for their distinctive humps on their backs. There are two species of camel: the dromedary and the Bactrian.\n",
      "3. Alpacas: Alpacas are domesticated animals that are closely related to llamas and vicuñas. They are native to South America and are known for their soft, luxurious fur.\n",
      "\n",
      "So, in summary, llamas are related to vicuñas, camels, and alpacas.\n"
     ]
    }
   ],
   "source": [
    "output = ollama.generate(\n",
    "    model = \"llama2\",\n",
    "    prompt = f\"Using this data: {data}. Respond to this prompt: {prompt}\"\n",
    ")\n",
    "\n",
    "print(output[\"response\"])"
   ]
  }
 ],
 "metadata": {
  "kernelspec": {
   "display_name": "Python 3 (ipykernel)",
   "language": "python",
   "name": "python3"
  },
  "language_info": {
   "codemirror_mode": {
    "name": "ipython",
    "version": 3
   },
   "file_extension": ".py",
   "mimetype": "text/x-python",
   "name": "python",
   "nbconvert_exporter": "python",
   "pygments_lexer": "ipython3",
   "version": "3.10.12"
  }
 },
 "nbformat": 4,
 "nbformat_minor": 5
}
